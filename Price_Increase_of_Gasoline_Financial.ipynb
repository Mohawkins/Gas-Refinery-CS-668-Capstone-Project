{
  "nbformat": 4,
  "nbformat_minor": 0,
  "metadata": {
    "colab": {
      "provenance": [],
      "authorship_tag": "ABX9TyNNb7RQ69ddUdwc7hMNohQa",
      "include_colab_link": true
    },
    "kernelspec": {
      "name": "python3",
      "display_name": "Python 3"
    },
    "language_info": {
      "name": "python"
    }
  },
  "cells": [
    {
      "cell_type": "markdown",
      "metadata": {
        "id": "view-in-github",
        "colab_type": "text"
      },
      "source": [
        "<a href=\"https://colab.research.google.com/github/Mohawkins/Gasoline-Prices-Increase-CS-668-Capstone-Project/blob/main/Price_Increase_of_Gasoline_Financial.ipynb\" target=\"_parent\"><img src=\"https://colab.research.google.com/assets/colab-badge.svg\" alt=\"Open In Colab\"/></a>"
      ]
    },
    {
      "cell_type": "markdown",
      "metadata": {
        "id": "5a36adb0"
      },
      "source": [
        "# Increase Price of Gasoline\n",
        "\n",
        "Monica Hawkins\n",
        "Pace Universty, NY, USA"
      ]
    },
    {
      "cell_type": "markdown",
      "metadata": {
        "id": "cf5083e1"
      },
      "source": [
        "# Reference\n",
        "\n",
        "https://www.eia.gov/energyexplained/gasoline/price-fluctuations.php"
      ]
    },
    {
      "cell_type": "markdown",
      "metadata": {
        "id": "2ebe6ebc"
      },
      "source": [
        "## Introduction\n",
        "\n",
        "Retail gasoline prices are mainly affected by crude oil prices and the amount of gasoline available to meet demand. Strong and increasing demand for gasoline and other petroleum products in the United States and the rest of the world can place intense pressure on available supplies.Gasoline prices tend to increase when the available gasoline supply decreases relative to real or expected gasoline demand or consumption. Gasoline prices can change rapidly if something disrupts crude oil supplies, refinery operations, or gasoline pipeline deliveries. Even when crude oil prices are stable, gasoline prices fluctuate because of seasonal changes in demand and in gasoline specifications."
      ]
    },
    {
      "cell_type": "markdown",
      "metadata": {
        "id": "d345b76b"
      },
      "source": [
        "## Business Problem Statement\n",
        "\n",
        "Gasoline prices tend to rise during the spring and summer, while heating oil demand increases in the winter. This project aims to analyze how seasonal trends in refinery production and fuel consumption affect fuel prices throughout the year. By examining refinery output data, fuel price patterns, and seasonal demand, the goal is to determine whether adjusting refinery operations could help reduce price spikes and stabilize fuel costs during the winter season."
      ]
    },
    {
      "cell_type": "markdown",
      "metadata": {
        "id": "911439dd"
      },
      "source": [
        "## Goal\n",
        "\n",
        "To build a machine learning model that predicts gasoline price increases, particularly the extreme price surges that occur during the spring and summer seasons."
      ]
    },
    {
      "cell_type": "markdown",
      "source": [
        "## Exploratory Data Analysis"
      ],
      "metadata": {
        "id": "sB9PVuwweMco"
      }
    },
    {
      "cell_type": "markdown",
      "metadata": {
        "id": "32c189ce"
      },
      "source": [
        "## Importing Libraries and Loading Data"
      ]
    },
    {
      "cell_type": "code",
      "metadata": {
        "colab": {
          "base_uri": "https://localhost:8080/"
        },
        "id": "f99a1e8d",
        "outputId": "be5f4eae-8645-4f46-d72f-88d70b824a79"
      },
      "source": [
        "import pandas as pd\n",
        "import numpy as np\n",
        "import matplotlib.pyplot as plt\n",
        "import seaborn as sns\n",
        "from sklearn.preprocessing import LabelEncoder, MinMaxScaler\n",
        "from sklearn.model_selection import train_test_split\n",
        "from sklearn.metrics import accuracy_score, f1_score\n",
        "from sklearn import linear_model, ensemble, neighbors, tree, svm\n",
        "\n",
        "# ===============================\n",
        "# Load Dataset\n",
        "# ===============================\n",
        "try:\n",
        "    df = pd.read_csv(\"/content/U.S._Natural_Gas_Prices.csv\")\n",
        "    print(\"Dataset loaded successfully.\")\n",
        "except FileNotFoundError:\n",
        "    print(\"Error: U.S._Natural_Gas_Prices.csv not found. Please check the file path.\")\n",
        "    # Exit or handle the error appropriately if the file is not found\n",
        "    exit() # Exiting for demonstration purposes\n",
        "\n",
        "# Preview data\n",
        "print(\"Dataset Shape:\", df.shape)\n",
        "print(\"\\nFirst 5 Rows:\\n\", df.head())\n",
        "\n",
        "# ===============================\n",
        "# Data Cleaning and Preprocessing\n",
        "# ===============================\n",
        "\n",
        "# Convert potential price columns to numeric, coercing errors to NaN\n",
        "price_cols = ['25-Feb', '25-Mar', '25-Apr', '25-May', '25-Jun', '25-Jul']\n",
        "for col in price_cols:\n",
        "    df[col] = pd.to_numeric(df[col], errors='coerce')\n",
        "\n",
        "# Drop rows with missing values for simplicity, given the small dataset size.\n",
        "# For a real project, consider imputation strategies.\n",
        "df.dropna(inplace=True)\n",
        "print(f\"\\nDataset shape after dropping rows with missing values: {df.shape}\")\n",
        "\n",
        "# Basic Data Info after cleaning\n",
        "print(\"\\nData Info after cleaning:\")\n",
        "print(df.info())\n",
        "\n",
        "print(\"\\nMissing Values after cleaning:\\n\", df.isnull().sum())\n",
        "\n",
        "# At this point, consider if 'Category' and 'History' columns are relevant features\n",
        "# for predicting gasoline prices. 'History' seems to contain year ranges,\n",
        "# and 'Category' describes the type of price.\n",
        "# For a time-series prediction, the date information is crucial,\n",
        "# which is currently embedded in the column names ('25-Feb', etc.).\n",
        "# This data structure is not ideal for time-series analysis.\n",
        "\n",
        "# If 'Category' is to be used, encode it.\n",
        "# Be cautious with encoding 'History' as it might not be a meaningful categorical feature.\n",
        "# le = LabelEncoder()\n",
        "# if 'Category' in df.columns:\n",
        "#     df['Category_Encoded'] = le.fit_transform(df['Category'])\n",
        "#     # Drop the original 'Category' column if encoded\n",
        "#     # df = df.drop('Category', axis=1)\n",
        "\n",
        "# The current structure of the data (prices in column names) makes it difficult\n",
        "# to directly apply standard machine learning models for time-series prediction.\n",
        "# A more suitable format would be a long format with columns like 'Date', 'Category', 'Price'.\n",
        "# However, converting to this format requires more information about the exact dates\n",
        "# corresponding to the '25-Feb', '25-Mar', etc. columns.\n",
        "\n",
        "# Given the dataset's current structure and small size, a direct application of\n",
        "# the previously attempted classification models for price prediction is likely not appropriate\n",
        "# and will face challenges with feature engineering, target definition, and model training.\n",
        "\n",
        "# ===============================\n",
        "# Next Steps and Considerations\n",
        "# ===============================\n",
        "print(\"\\n===============================\")\n",
        "print(\"Next Steps and Considerations\")\n",
        "print(\"===============================\")\n",
        "print(\"1. Data Structure: The current data format (prices in column names) is not ideal for time-series analysis. Reshaping the data into a long format with explicit date, category, and price columns would be beneficial.\")\n",
        "print(\"2. Target Variable: The goal is to predict gasoline price increases. A clear target variable needs to be defined based on the price data (e.g., percentage change in price, or a binary indicator for significant price increases).\")\n",
        "print(\"3. Dataset Size: With only a few rows after cleaning, training robust machine learning models is challenging. Consider obtaining a larger dataset with more historical price data and relevant features.\")\n",
        "print(\"4. Modeling Approach: For price prediction (a continuous value), regression models are typically used, not classification models. If the goal is to predict *increases*, a classification approach might be possible by defining a binary target (increase/no increase), but this still requires a suitable dataset and feature engineering.\")\n",
        "print(\"5. Feature Engineering: Extracting time-based features (e.g., month, year, season) from the date information (once the data is in a suitable format) will be important for capturing seasonal trends.\")\n",
        "\n",
        "print(\"\\nBased on the current data, I cannot proceed with training the machine learning models as originally intended without further data preparation and clarification on the target variable and desired modeling approach. \")\n",
        "print(\"Please provide guidance on how you would like to proceed, perhaps by providing a dataset with a more suitable structure for time-series analysis or clarifying the target variable for prediction.\")"
      ],
      "execution_count": null,
      "outputs": [
        {
          "output_type": "stream",
          "name": "stdout",
          "text": [
            "Dataset loaded successfully.\n",
            "Dataset Shape: (12, 8)\n",
            "\n",
            "First 5 Rows:\n",
            "                            Category  25-Feb     25-Mar 25-Apr  25-May 25-Jun  \\\n",
            "0  Wellhead Price eo NA NA NA NA NA     NaN  1973-2025    NaN     NaN    NaN   \n",
            "1                  Imports Price eo  436.00        251    224  201.00    193   \n",
            "2                    By Pipeline eo  436.00        251    2.2  201.00    192   \n",
            "3                  Exports Price eo    6.65       6.66   6.32    5.48    562   \n",
            "4                    By Pipeline eo    4.00        321    288    2.66    278   \n",
            "\n",
            "   25-Jul    History  \n",
            "0     NaN        NaN  \n",
            "1   201.0  1989-2025  \n",
            "2   201.0  1997-2025  \n",
            "3   576.0  1989-2025  \n",
            "4   292.0  1997-2025  \n",
            "\n",
            "Dataset shape after dropping rows with missing values: (8, 8)\n",
            "\n",
            "Data Info after cleaning:\n",
            "<class 'pandas.core.frame.DataFrame'>\n",
            "Index: 8 entries, 1 to 11\n",
            "Data columns (total 8 columns):\n",
            " #   Column    Non-Null Count  Dtype  \n",
            "---  ------    --------------  -----  \n",
            " 0   Category  8 non-null      object \n",
            " 1   25-Feb    8 non-null      float64\n",
            " 2   25-Mar    8 non-null      float64\n",
            " 3   25-Apr    8 non-null      float64\n",
            " 4   25-May    8 non-null      float64\n",
            " 5   25-Jun    8 non-null      float64\n",
            " 6   25-Jul    8 non-null      float64\n",
            " 7   History   8 non-null      object \n",
            "dtypes: float64(6), object(2)\n",
            "memory usage: 576.0+ bytes\n",
            "None\n",
            "\n",
            "Missing Values after cleaning:\n",
            " Category    0\n",
            "25-Feb      0\n",
            "25-Mar      0\n",
            "25-Apr      0\n",
            "25-May      0\n",
            "25-Jun      0\n",
            "25-Jul      0\n",
            "History     0\n",
            "dtype: int64\n",
            "\n",
            "===============================\n",
            "Next Steps and Considerations\n",
            "===============================\n",
            "1. Data Structure: The current data format (prices in column names) is not ideal for time-series analysis. Reshaping the data into a long format with explicit date, category, and price columns would be beneficial.\n",
            "2. Target Variable: The goal is to predict gasoline price increases. A clear target variable needs to be defined based on the price data (e.g., percentage change in price, or a binary indicator for significant price increases).\n",
            "3. Dataset Size: With only a few rows after cleaning, training robust machine learning models is challenging. Consider obtaining a larger dataset with more historical price data and relevant features.\n",
            "4. Modeling Approach: For price prediction (a continuous value), regression models are typically used, not classification models. If the goal is to predict *increases*, a classification approach might be possible by defining a binary target (increase/no increase), but this still requires a suitable dataset and feature engineering.\n",
            "5. Feature Engineering: Extracting time-based features (e.g., month, year, season) from the date information (once the data is in a suitable format) will be important for capturing seasonal trends.\n",
            "\n",
            "Based on the current data, I cannot proceed with training the machine learning models as originally intended without further data preparation and clarification on the target variable and desired modeling approach. \n",
            "Please provide guidance on how you would like to proceed, perhaps by providing a dataset with a more suitable structure for time-series analysis or clarifying the target variable for prediction.\n"
          ]
        }
      ]
    }
  ]
}